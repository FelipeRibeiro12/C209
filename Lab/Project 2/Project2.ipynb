{
 "cells": [
  {
   "cell_type": "markdown",
   "metadata": {},
   "source": [
    "Link Videos: https://posinatel-my.sharepoint.com/:f:/g/personal/felipe_gabriel_ges_inatel_br/EtcPzPbtPGdEs5ioqVgwNJoBIIeFOALExlmHNc_Zw_NJrg?e=XQYZSn\n",
    "\n",
    "ou\n",
    "\n",
    "Video Inicial: https://youtu.be/w31XvXe3Rgw\n",
    "Video Final: https://youtu.be/Uy-V6I--8jQ"
   ]
  },
  {
   "cell_type": "markdown",
   "metadata": {},
   "source": [
    "## Plano Detalhado\n",
    "\n",
    "## -> Bibliotecas utilizadas:\n",
    "\n",
    "moviepy.editor (edição de video/audio) -> pip install moviepy\n",
    "\n",
    "numpy (operações) -> pip install numpy\n",
    "\n",
    "## 1. gravar um video de si mesmo lendo o texto no arquivo anexo"
   ]
  },
  {
   "cell_type": "code",
   "execution_count": 1,
   "metadata": {},
   "outputs": [],
   "source": [
    "#libs necessarias\n",
    "import moviepy.editor as mpe\n",
    "import numpy as np"
   ]
  },
  {
   "cell_type": "code",
   "execution_count": 2,
   "metadata": {},
   "outputs": [],
   "source": [
    "#carregando video\n",
    "vd = mpe.VideoFileClip(\"videoInicial.mp4\")"
   ]
  },
  {
   "cell_type": "markdown",
   "metadata": {},
   "source": [
    "## 2. inverter a imagem, no eixo X, a cada 20 segundo\n",
    "\n",
    "Dividir o vídeo em segmentos de 20s\n",
    "\n",
    "Aplicar mirrorX (espelhamento no eixo X) em blocos alternados\n",
    "\n",
    "Exemplo:\n",
    "\n",
    "0s–20s → Normal\n",
    "\n",
    "20s–40s → Espelhado\n",
    "\n",
    "40s–60s → Normal\n",
    "\n",
    "e assim por diante\n",
    "\n",
    "Concatenar todos os segmentos em um"
   ]
  },
  {
   "cell_type": "code",
   "execution_count": 4,
   "metadata": {},
   "outputs": [],
   "source": [
    "def mirrorX(video):\n",
    "    \"\"\"\n",
    "    Divide o video em blocos de 20s\n",
    "    Aplica espelhamento horizontal (eixo X) alternadamente em cada bloco\n",
    "    Concatena tudo\n",
    "    \"\"\"\n",
    "    duration = video.duration\n",
    "    cuts = []\n",
    "    mirror = False\n",
    "\n",
    "    for start in np.arange(0, duration, 20):\n",
    "        end = min(start + 20, duration)\n",
    "        subclip = video.subclip(start, end)\n",
    "        \n",
    "        if mirror:\n",
    "            subclip = subclip.fx(mpe.vfx.mirror_x)\n",
    "            \n",
    "        cuts.append(subclip)\n",
    "        mirror = not mirror\n",
    "\n",
    "    return mpe.concatenate_videoclips(cuts)\n",
    "\n",
    "vd2 = mirrorX(vd)"
   ]
  },
  {
   "cell_type": "markdown",
   "metadata": {},
   "source": [
    "## 3. diminiur o som, de forma gradativa, a cada 30 segundos, de forma que os últimos 10 segundos fique em silêncio (sem som)\n",
    "\n",
    "Dividir o áudio em blocos de 30s.\n",
    "\n",
    "Diminuir progressivamente o volume (100% → 10%) conforme a quantidade de blocos.\n",
    "\n",
    "Exemplo:\n",
    "\n",
    "Duraçao = 2:18 = 138s -> 138 - 10 = 128s\n",
    "\n",
    "Blocos = 128s / 30s = 4,26 = 4 (arredendamento)\n",
    "\n",
    "Diferença de volume = 100% - 10% = 90% = 0.9\n",
    "\n",
    "Redução por bloco = 0.9 / (4 - 1) = 0.3 = 30s\n",
    "\n",
    "0s – 30s           → 1.0 - (0.3 × 0) = 1.0\t100%\n",
    "\n",
    "30s – 60s          → 1.0 - (0.3 × 1) = 0.7\t70%\n",
    "\n",
    "60s – 90s          → 1.0 - (0.3 × 2) = 0.4\t40%\n",
    "\n",
    "90s – 120s         → 1.0 - (0.3 × 3) = 0.1\t10%\n",
    "\n",
    "120s – 128s(resto) → mantem o ultimo (0.1)\t10%\n",
    "\n",
    "ultimos 10s → mudo\n"
   ]
  },
  {
   "cell_type": "code",
   "execution_count": 5,
   "metadata": {},
   "outputs": [],
   "source": [
    "def fadeOut(video):\n",
    "    '''\n",
    "    Divide o audio em blocos de 30s\n",
    "    Para cada bloco, reduz gradualmente o volume conforme o numero de blocos\n",
    "    Muta os 10s finais\n",
    "    Concatena tudo\n",
    "    '''\n",
    "    #verificando se existe audio\n",
    "    if video.audio is None:\n",
    "        return video\n",
    "    \n",
    "    duration = video.duration\n",
    "    noMuted = duration - 10  #remover 10s para mutar\n",
    "    blockDuration = 30\n",
    "    cuts = [] #lista para armazenar os audios\n",
    "    currentTime = 0 #contador para acompanhar o tempo atual do video\n",
    "    \n",
    "    while currentTime < noMuted:\n",
    "        endTime = min(currentTime + blockDuration, noMuted)\n",
    "        blockIndex = int(currentTime // blockDuration) #calcular  o indice do bloco\n",
    "        totalBlocks = int(np.ceil(noMuted / blockDuration)) #numero total de blocos antes de mutar\n",
    "        \n",
    "        #calcular o volume do bloco, diminuindo gradualmente de 100% para 10%\n",
    "        if totalBlocks <= 1:\n",
    "            volume = 1.0\n",
    "        else:\n",
    "            volume = max(0.1, 1.0 - 0.9 * (blockIndex / (totalBlocks - 1))) \n",
    "        \n",
    "        #extrair e modificar audios\n",
    "        cut = video.audio.subclip(currentTime, endTime) #trecho de audio do bloco atual\n",
    "        cut = cut.volumex(volume) #modifica volume do trecho\n",
    "        cuts.append(cut) #adiciona a lista\n",
    "        \n",
    "        currentTime = endTime #atualiza o tempo para o duration do bloco\n",
    "    \n",
    "    #mutar \n",
    "    if noMuted < duration:\n",
    "        silent_cut = video.audio.subclip(noMuted, duration) #extrai ultimos 10s\n",
    "        silent_cut = silent_cut.volumex(0) #volume 0\n",
    "        cuts.append(silent_cut) #adiciona a lista\n",
    "    \n",
    "    #concatenar audios\n",
    "    fadeOutAudio = mpe.concatenate_audioclips(cuts)\n",
    "    \n",
    "    return video.set_audio(fadeOutAudio)\n",
    "\n",
    "vd3 = fadeOut(vd2)"
   ]
  },
  {
   "cell_type": "markdown",
   "metadata": {},
   "source": [
    "## 4. após o primeiro minuto, 60 segundos, fazer um corte para o segundo 80"
   ]
  },
  {
   "cell_type": "code",
   "execution_count": null,
   "metadata": {},
   "outputs": [],
   "source": [
    "    duration = vd.duration\n",
    "    cut1 = vd3.subclip(0, 60)\n",
    "    cut2 = vd3.subclip(60, 80) #cortar de 60 a 80s\n",
    "    cut3  = vd3.subclip(80, duration) #cortar de 80 ao final"
   ]
  },
  {
   "cell_type": "markdown",
   "metadata": {},
   "source": [
    "## 5. por fim, insira os 20 segundos cortados acima no fim do video"
   ]
  },
  {
   "cell_type": "code",
   "execution_count": 7,
   "metadata": {},
   "outputs": [],
   "source": [
    "#concatenar em sequencia -> 0-60 + 80-final + 60-80\n",
    "videoFinal = mpe.concatenate_videoclips([cut1, cut3, cut2])"
   ]
  },
  {
   "cell_type": "markdown",
   "metadata": {},
   "source": [
    "## 6. exibir e salvar vídeo"
   ]
  },
  {
   "cell_type": "code",
   "execution_count": null,
   "metadata": {},
   "outputs": [
    {
     "name": "stdout",
     "output_type": "stream",
     "text": [
      "Moviepy - Building video __temp__.mp4.\n",
      "MoviePy - Writing audio in __temp__TEMP_MPY_wvf_snd.mp3\n"
     ]
    },
    {
     "name": "stderr",
     "output_type": "stream",
     "text": [
      "                                                                     \r"
     ]
    },
    {
     "name": "stdout",
     "output_type": "stream",
     "text": [
      "MoviePy - Done.\n",
      "Moviepy - Writing video __temp__.mp4\n",
      "\n"
     ]
    },
    {
     "name": "stderr",
     "output_type": "stream",
     "text": [
      "                                                                  \r"
     ]
    },
    {
     "name": "stdout",
     "output_type": "stream",
     "text": [
      "Moviepy - Done !\n",
      "Moviepy - video ready __temp__.mp4\n",
      "Moviepy - Building video videoFinal.mp4.\n",
      "MoviePy - Writing audio in videoFinalTEMP_MPY_wvf_snd.mp3\n"
     ]
    },
    {
     "name": "stderr",
     "output_type": "stream",
     "text": [
      "                                                                     \r"
     ]
    },
    {
     "name": "stdout",
     "output_type": "stream",
     "text": [
      "MoviePy - Done.\n",
      "Moviepy - Writing video videoFinal.mp4\n",
      "\n"
     ]
    },
    {
     "name": "stderr",
     "output_type": "stream",
     "text": [
      "                                                                \r"
     ]
    },
    {
     "name": "stdout",
     "output_type": "stream",
     "text": [
      "Moviepy - Done !\n",
      "Moviepy - video ready videoFinal.mp4\n"
     ]
    }
   ],
   "source": [
    "videoFinal.ipython_display(width=480, maxduration=380)\n",
    "videoFinal.write_videofile('videoFinal.mp4')"
   ]
  }
 ],
 "metadata": {
  "kernelspec": {
   "display_name": "Python 3",
   "language": "python",
   "name": "python3"
  },
  "language_info": {
   "codemirror_mode": {
    "name": "ipython",
    "version": 3
   },
   "file_extension": ".py",
   "mimetype": "text/x-python",
   "name": "python",
   "nbconvert_exporter": "python",
   "pygments_lexer": "ipython3",
   "version": "3.11.4"
  }
 },
 "nbformat": 4,
 "nbformat_minor": 2
}
